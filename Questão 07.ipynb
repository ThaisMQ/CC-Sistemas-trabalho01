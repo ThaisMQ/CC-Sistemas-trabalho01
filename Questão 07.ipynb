{
  "metadata": {
    "language_info": {
      "codemirror_mode": {
        "name": "python",
        "version": 3
      },
      "file_extension": ".py",
      "mimetype": "text/x-python",
      "name": "python",
      "nbconvert_exporter": "python",
      "pygments_lexer": "ipython3",
      "version": "3.8"
    },
    "kernelspec": {
      "name": "python",
      "display_name": "Python (Pyodide)",
      "language": "python"
    }
  },
  "nbformat_minor": 4,
  "nbformat": 4,
  "cells": [
    {
      "cell_type": "markdown",
      "source": "___\n<center> <h1> Interligação entre Processador e Memória Principal(MP): Estrutura geral  \n",
      "metadata": {}
    },
    {
      "cell_type": "code",
      "source": "from PIL import Image\nImage.open(\"Imagem_{Estrutura_Geral}.png\")",
      "metadata": {
        "trusted": true
      },
      "execution_count": null,
      "outputs": []
    },
    {
      "cell_type": "markdown",
      "source": "<center> <h5> Para a explicação da função que os barramentos exercem nesse sistema, é necessário esclarecer com o que eles irão interagir.",
      "metadata": {}
    },
    {
      "cell_type": "markdown",
      "source": "___\n<center> <h1> Unidade de Controle e Processamento e Memória Principal",
      "metadata": {}
    },
    {
      "cell_type": "code",
      "source": "Image.open(\"Image_{UCP_MP}.png\")",
      "metadata": {
        "trusted": true
      },
      "execution_count": null,
      "outputs": []
    },
    {
      "cell_type": "markdown",
      "source": "<center> <h5> Representação ilustrativa dos componentes principais do sistema ",
      "metadata": {}
    },
    {
      "cell_type": "markdown",
      "source": "<h4> Unidade de controle(UC) </h4>\nA UC tem a fução de **determinar instruções**, solicitando qual operação será efetuada no **interior da memória principal**(leitura ou escrita).\n\n<h4> Controlador da Memória </h4>\nRealiza a **interligação da memória** aos barramentos.\n\n**Decodifica o endereço** enviado e localiza a célula desejada.\n\n\n## Registradores: \nOs registradores constituem memórias internas ao processador, e, por sua localização, possuem a maior velocidade de acesso ao sistema.\n    \nSão fabricados com o objetivo de atuar diretamente nas instruções solicitadas pela unidade de controle.\n    \nPossuem capacidade de armazenamento que comporta um dado, instrução ou palavra por vez, tendo uma arquitetura vólatil para isso.\n    \n<h4> RDM: Registrador de Dados da Memória </h4>\nO RDM tem a função de armazenar a informação que será lida ou escrita, dependendo da instrução solicitada. \n    \n<h4> REM: Registrador de Endereços da Memória </h4>\nO REM tem a função de armazenar o endereço, ou seja, a posição de determinada célula que será acessada durante a operação de leitura ou escrita. \n    {: style=\"display: block; margin: 0 auto\"}\n___",
      "metadata": {}
    },
    {
      "cell_type": "code",
      "source": "Image.open(\"Image_{BC}.png\")",
      "metadata": {
        "trusted": true
      },
      "execution_count": null,
      "outputs": []
    },
    {
      "cell_type": "markdown",
      "source": "# <center> Barramento de Controle",
      "metadata": {}
    },
    {
      "cell_type": "code",
      "source": "Image.open(\"Image_{BD}.png\")",
      "metadata": {
        "trusted": true
      },
      "execution_count": null,
      "outputs": []
    },
    {
      "cell_type": "markdown",
      "source": "# <center> Barramento de Dados ",
      "metadata": {}
    },
    {
      "cell_type": "markdown",
      "source": "# <center> Barramento de Endereço",
      "metadata": {}
    },
    {
      "cell_type": "code",
      "source": "Image.open(\"Image_{BE}.png\")",
      "metadata": {
        "trusted": true
      },
      "execution_count": null,
      "outputs": []
    },
    {
      "cell_type": "code",
      "source": "",
      "metadata": {},
      "execution_count": null,
      "outputs": []
    }
  ]
}